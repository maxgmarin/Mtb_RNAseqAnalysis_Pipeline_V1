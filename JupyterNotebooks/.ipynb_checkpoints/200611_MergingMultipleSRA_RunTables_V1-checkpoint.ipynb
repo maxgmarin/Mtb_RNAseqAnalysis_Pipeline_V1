{
 "cells": [
  {
   "cell_type": "markdown",
   "metadata": {},
   "source": [
    "# 200611_MergingMultipleSRA_RunTables_V1"
   ]
  },
  {
   "cell_type": "markdown",
   "metadata": {
    "toc-hr-collapsed": true
   },
   "source": [
    "### Import Statements"
   ]
  },
  {
   "cell_type": "code",
   "execution_count": 38,
   "metadata": {},
   "outputs": [],
   "source": [
    "#import numpy as np\n",
    "import pandas as pd\n",
    "#from tqdm import tqdm\n",
    "#import matplotlib.pyplot as plt\n",
    "\n",
    "%matplotlib inline"
   ]
  },
  {
   "cell_type": "markdown",
   "metadata": {},
   "source": [
    "#### Pandas Viewing Settings"
   ]
  },
  {
   "cell_type": "code",
   "execution_count": 39,
   "metadata": {},
   "outputs": [],
   "source": [
    "pd.set_option('display.max_rows', 500)\n",
    "pd.set_option('display.max_columns', 500)\n",
    "pd.set_option('display.width', 1000)"
   ]
  },
  {
   "cell_type": "code",
   "execution_count": 40,
   "metadata": {},
   "outputs": [],
   "source": [
    "RunInfo_Dir_PATH = \"../runInfo_TSVs\""
   ]
  },
  {
   "cell_type": "code",
   "execution_count": 41,
   "metadata": {},
   "outputs": [],
   "source": [
    "ListOf_RunTables = !ls -1 $RunInfo_Dir_PATH | grep \".csv\""
   ]
  },
  {
   "cell_type": "code",
   "execution_count": 42,
   "metadata": {},
   "outputs": [
    {
     "data": {
      "text/plain": [
       "['PRJNA421561_SraRunTable.csv',\n",
       " 'PRJNA484003_SraRunTable.csv',\n",
       " 'PRJNA484385_SraRunTable.csv',\n",
       " 'PRJNA484403_SraRunTable.csv',\n",
       " 'PRJNA508198_SraRunTable.csv']"
      ]
     },
     "execution_count": 42,
     "metadata": {},
     "output_type": "execute_result"
    }
   ],
   "source": [
    "ListOf_RunTables"
   ]
  },
  {
   "cell_type": "code",
   "execution_count": 43,
   "metadata": {},
   "outputs": [],
   "source": [
    "PathTo_InputSampleDATA_TSV = \"../runInfo_TSVs/PRJNA508198_SraRunTable.csv\""
   ]
  },
  {
   "cell_type": "code",
   "execution_count": null,
   "metadata": {},
   "outputs": [],
   "source": []
  },
  {
   "cell_type": "code",
   "execution_count": 44,
   "metadata": {},
   "outputs": [
    {
     "name": "stdout",
     "output_type": "stream",
     "text": [
      "PRJNA421561 (36, 26)\n",
      "PRJNA484003 (16, 26)\n",
      "PRJNA484385 (16, 26)\n",
      "PRJNA484403 (15, 26)\n",
      "PRJNA508198 (29, 27)\n"
     ]
    }
   ],
   "source": [
    "\n",
    "listOf_SRARunTable_DFs = []\n",
    "\n",
    "for RunTable_FileName in ListOf_RunTables:\n",
    "    \n",
    "    RunTable_PATH = f\"{RunInfo_Dir_PATH}/{RunTable_FileName}\"\n",
    "    \n",
    "    ProjectAcc = RunTable_FileName.split(\"_\")[0]\n",
    "    \n",
    "    #print(RunTable_PATH)\n",
    "\n",
    "    \n",
    "    SRARunTable_DF = pd.read_csv( RunTable_PATH, sep=',')\n",
    "    \n",
    "    print(ProjectAcc, SRARunTable_DF.shape)\n",
    "    \n",
    "    listOf_SRARunTable_DFs.append(SRARunTable_DF)\n",
    "    \n",
    "    \n",
    "    \n",
    "    "
   ]
  },
  {
   "cell_type": "code",
   "execution_count": 45,
   "metadata": {},
   "outputs": [],
   "source": [
    "Merged_SRARun_DF = pd.concat(listOf_SRARunTable_DFs, sort=False)"
   ]
  },
  {
   "cell_type": "code",
   "execution_count": 46,
   "metadata": {},
   "outputs": [
    {
     "data": {
      "text/plain": [
       "(112, 32)"
      ]
     },
     "execution_count": 46,
     "metadata": {},
     "output_type": "execute_result"
    }
   ],
   "source": [
    "Merged_SRARun_DF.shape"
   ]
  },
  {
   "cell_type": "code",
   "execution_count": 47,
   "metadata": {},
   "outputs": [
    {
     "data": {
      "text/plain": [
       "PRJNA421561    36\n",
       "PRJNA508198    29\n",
       "PRJNA484385    16\n",
       "PRJNA484003    16\n",
       "PRJNA484403    15\n",
       "Name: BioProject, dtype: int64"
      ]
     },
     "execution_count": 47,
     "metadata": {},
     "output_type": "execute_result"
    }
   ],
   "source": [
    "Merged_SRARun_DF[\"BioProject\"].value_counts()"
   ]
  },
  {
   "cell_type": "code",
   "execution_count": 49,
   "metadata": {},
   "outputs": [
    {
     "data": {
      "text/plain": [
       "SINGLE    76\n",
       "PAIRED    36\n",
       "Name: LibraryLayout, dtype: int64"
      ]
     },
     "execution_count": 49,
     "metadata": {},
     "output_type": "execute_result"
    }
   ],
   "source": [
    "Merged_SRARun_DF[\"LibraryLayout\"].value_counts()"
   ]
  },
  {
   "cell_type": "code",
   "execution_count": null,
   "metadata": {},
   "outputs": [],
   "source": []
  },
  {
   "cell_type": "code",
   "execution_count": 50,
   "metadata": {},
   "outputs": [
    {
     "data": {
      "text/html": [
       "<div>\n",
       "<style scoped>\n",
       "    .dataframe tbody tr th:only-of-type {\n",
       "        vertical-align: middle;\n",
       "    }\n",
       "\n",
       "    .dataframe tbody tr th {\n",
       "        vertical-align: top;\n",
       "    }\n",
       "\n",
       "    .dataframe thead th {\n",
       "        text-align: right;\n",
       "    }\n",
       "</style>\n",
       "<table border=\"1\" class=\"dataframe\">\n",
       "  <thead>\n",
       "    <tr style=\"text-align: right;\">\n",
       "      <th></th>\n",
       "      <th>Run</th>\n",
       "      <th>Assay Type</th>\n",
       "      <th>AvgSpotLen</th>\n",
       "      <th>Bases</th>\n",
       "      <th>BioProject</th>\n",
       "      <th>BioSample</th>\n",
       "      <th>Bytes</th>\n",
       "      <th>Center Name</th>\n",
       "      <th>Consent</th>\n",
       "      <th>DATASTORE filetype</th>\n",
       "      <th>DATASTORE provider</th>\n",
       "      <th>DATASTORE region</th>\n",
       "      <th>Experiment</th>\n",
       "      <th>GEO_Accession (exp)</th>\n",
       "      <th>Instrument</th>\n",
       "      <th>LibraryLayout</th>\n",
       "      <th>LibrarySelection</th>\n",
       "      <th>LibrarySource</th>\n",
       "      <th>Organism</th>\n",
       "      <th>Platform</th>\n",
       "      <th>ReleaseDate</th>\n",
       "      <th>Sample Name</th>\n",
       "      <th>source_name</th>\n",
       "      <th>SRA Study</th>\n",
       "      <th>Time_point</th>\n",
       "      <th>Treatment</th>\n",
       "      <th>days_post_drug</th>\n",
       "      <th>drug_dose</th>\n",
       "      <th>ethambutol_dose</th>\n",
       "      <th>compound</th>\n",
       "      <th>strain_name</th>\n",
       "      <th>strain_origin</th>\n",
       "    </tr>\n",
       "  </thead>\n",
       "  <tbody>\n",
       "    <tr>\n",
       "      <td>0</td>\n",
       "      <td>SRR6360037</td>\n",
       "      <td>RNA-Seq</td>\n",
       "      <td>202</td>\n",
       "      <td>931429676</td>\n",
       "      <td>PRJNA421561</td>\n",
       "      <td>SAMN08146680</td>\n",
       "      <td>372852127</td>\n",
       "      <td>GEO</td>\n",
       "      <td>public</td>\n",
       "      <td>fastq,sra</td>\n",
       "      <td>gs,ncbi,s3</td>\n",
       "      <td>gs.US,ncbi.public,s3.us-east-1</td>\n",
       "      <td>SRX3456099</td>\n",
       "      <td>GSM2881195</td>\n",
       "      <td>Illumina HiSeq 2000</td>\n",
       "      <td>PAIRED</td>\n",
       "      <td>cDNA</td>\n",
       "      <td>TRANSCRIPTOMIC</td>\n",
       "      <td>Mycobacterium tuberculosis H37Rv</td>\n",
       "      <td>ILLUMINA</td>\n",
       "      <td>2018-04-13T00:00:00Z</td>\n",
       "      <td>GSM2881195</td>\n",
       "      <td>M. tuberculosis H37Rv</td>\n",
       "      <td>SRP126361</td>\n",
       "      <td>4hrs</td>\n",
       "      <td>control</td>\n",
       "      <td>NaN</td>\n",
       "      <td>NaN</td>\n",
       "      <td>NaN</td>\n",
       "      <td>NaN</td>\n",
       "      <td>NaN</td>\n",
       "      <td>NaN</td>\n",
       "    </tr>\n",
       "    <tr>\n",
       "      <td>1</td>\n",
       "      <td>SRR6360038</td>\n",
       "      <td>RNA-Seq</td>\n",
       "      <td>202</td>\n",
       "      <td>1080657782</td>\n",
       "      <td>PRJNA421561</td>\n",
       "      <td>SAMN08146679</td>\n",
       "      <td>430440264</td>\n",
       "      <td>GEO</td>\n",
       "      <td>public</td>\n",
       "      <td>fastq,sra</td>\n",
       "      <td>gs,ncbi,s3</td>\n",
       "      <td>gs.US,ncbi.public,s3.us-east-1</td>\n",
       "      <td>SRX3456100</td>\n",
       "      <td>GSM2881196</td>\n",
       "      <td>Illumina HiSeq 2000</td>\n",
       "      <td>PAIRED</td>\n",
       "      <td>cDNA</td>\n",
       "      <td>TRANSCRIPTOMIC</td>\n",
       "      <td>Mycobacterium tuberculosis H37Rv</td>\n",
       "      <td>ILLUMINA</td>\n",
       "      <td>2018-04-13T00:00:00Z</td>\n",
       "      <td>GSM2881196</td>\n",
       "      <td>M. tuberculosis H37Rv</td>\n",
       "      <td>SRP126361</td>\n",
       "      <td>4hrs</td>\n",
       "      <td>control</td>\n",
       "      <td>NaN</td>\n",
       "      <td>NaN</td>\n",
       "      <td>NaN</td>\n",
       "      <td>NaN</td>\n",
       "      <td>NaN</td>\n",
       "      <td>NaN</td>\n",
       "    </tr>\n",
       "    <tr>\n",
       "      <td>2</td>\n",
       "      <td>SRR6360039</td>\n",
       "      <td>RNA-Seq</td>\n",
       "      <td>202</td>\n",
       "      <td>2343973458</td>\n",
       "      <td>PRJNA421561</td>\n",
       "      <td>SAMN08146678</td>\n",
       "      <td>940119858</td>\n",
       "      <td>GEO</td>\n",
       "      <td>public</td>\n",
       "      <td>fastq,sra</td>\n",
       "      <td>gs,ncbi,s3</td>\n",
       "      <td>gs.US,ncbi.public,s3.us-east-1</td>\n",
       "      <td>SRX3456101</td>\n",
       "      <td>GSM2881197</td>\n",
       "      <td>Illumina HiSeq 2000</td>\n",
       "      <td>PAIRED</td>\n",
       "      <td>cDNA</td>\n",
       "      <td>TRANSCRIPTOMIC</td>\n",
       "      <td>Mycobacterium tuberculosis H37Rv</td>\n",
       "      <td>ILLUMINA</td>\n",
       "      <td>2018-04-13T00:00:00Z</td>\n",
       "      <td>GSM2881197</td>\n",
       "      <td>M. tuberculosis H37Rv</td>\n",
       "      <td>SRP126361</td>\n",
       "      <td>4hrs</td>\n",
       "      <td>control</td>\n",
       "      <td>NaN</td>\n",
       "      <td>NaN</td>\n",
       "      <td>NaN</td>\n",
       "      <td>NaN</td>\n",
       "      <td>NaN</td>\n",
       "      <td>NaN</td>\n",
       "    </tr>\n",
       "    <tr>\n",
       "      <td>3</td>\n",
       "      <td>SRR6360040</td>\n",
       "      <td>RNA-Seq</td>\n",
       "      <td>202</td>\n",
       "      <td>860597972</td>\n",
       "      <td>PRJNA421561</td>\n",
       "      <td>SAMN08146677</td>\n",
       "      <td>344112702</td>\n",
       "      <td>GEO</td>\n",
       "      <td>public</td>\n",
       "      <td>fastq,sra</td>\n",
       "      <td>gs,ncbi,s3</td>\n",
       "      <td>gs.US,ncbi.public,s3.us-east-1</td>\n",
       "      <td>SRX3456102</td>\n",
       "      <td>GSM2881198</td>\n",
       "      <td>Illumina HiSeq 2000</td>\n",
       "      <td>PAIRED</td>\n",
       "      <td>cDNA</td>\n",
       "      <td>TRANSCRIPTOMIC</td>\n",
       "      <td>Mycobacterium tuberculosis H37Rv</td>\n",
       "      <td>ILLUMINA</td>\n",
       "      <td>2018-04-13T00:00:00Z</td>\n",
       "      <td>GSM2881198</td>\n",
       "      <td>M. tuberculosis H37Rv</td>\n",
       "      <td>SRP126361</td>\n",
       "      <td>4hrs</td>\n",
       "      <td>ciprofloxacin</td>\n",
       "      <td>NaN</td>\n",
       "      <td>NaN</td>\n",
       "      <td>NaN</td>\n",
       "      <td>NaN</td>\n",
       "      <td>NaN</td>\n",
       "      <td>NaN</td>\n",
       "    </tr>\n",
       "  </tbody>\n",
       "</table>\n",
       "</div>"
      ],
      "text/plain": [
       "          Run Assay Type  AvgSpotLen       Bases   BioProject     BioSample      Bytes Center Name Consent DATASTORE filetype DATASTORE provider                DATASTORE region  Experiment GEO_Accession (exp)           Instrument LibraryLayout LibrarySelection   LibrarySource                          Organism  Platform           ReleaseDate Sample Name            source_name  SRA Study Time_point      Treatment  days_post_drug drug_dose ethambutol_dose compound strain_name strain_origin\n",
       "0  SRR6360037    RNA-Seq         202   931429676  PRJNA421561  SAMN08146680  372852127         GEO  public          fastq,sra         gs,ncbi,s3  gs.US,ncbi.public,s3.us-east-1  SRX3456099          GSM2881195  Illumina HiSeq 2000        PAIRED             cDNA  TRANSCRIPTOMIC  Mycobacterium tuberculosis H37Rv  ILLUMINA  2018-04-13T00:00:00Z  GSM2881195  M. tuberculosis H37Rv  SRP126361       4hrs        control             NaN       NaN             NaN      NaN         NaN           NaN\n",
       "1  SRR6360038    RNA-Seq         202  1080657782  PRJNA421561  SAMN08146679  430440264         GEO  public          fastq,sra         gs,ncbi,s3  gs.US,ncbi.public,s3.us-east-1  SRX3456100          GSM2881196  Illumina HiSeq 2000        PAIRED             cDNA  TRANSCRIPTOMIC  Mycobacterium tuberculosis H37Rv  ILLUMINA  2018-04-13T00:00:00Z  GSM2881196  M. tuberculosis H37Rv  SRP126361       4hrs        control             NaN       NaN             NaN      NaN         NaN           NaN\n",
       "2  SRR6360039    RNA-Seq         202  2343973458  PRJNA421561  SAMN08146678  940119858         GEO  public          fastq,sra         gs,ncbi,s3  gs.US,ncbi.public,s3.us-east-1  SRX3456101          GSM2881197  Illumina HiSeq 2000        PAIRED             cDNA  TRANSCRIPTOMIC  Mycobacterium tuberculosis H37Rv  ILLUMINA  2018-04-13T00:00:00Z  GSM2881197  M. tuberculosis H37Rv  SRP126361       4hrs        control             NaN       NaN             NaN      NaN         NaN           NaN\n",
       "3  SRR6360040    RNA-Seq         202   860597972  PRJNA421561  SAMN08146677  344112702         GEO  public          fastq,sra         gs,ncbi,s3  gs.US,ncbi.public,s3.us-east-1  SRX3456102          GSM2881198  Illumina HiSeq 2000        PAIRED             cDNA  TRANSCRIPTOMIC  Mycobacterium tuberculosis H37Rv  ILLUMINA  2018-04-13T00:00:00Z  GSM2881198  M. tuberculosis H37Rv  SRP126361       4hrs  ciprofloxacin             NaN       NaN             NaN      NaN         NaN           NaN"
      ]
     },
     "execution_count": 50,
     "metadata": {},
     "output_type": "execute_result"
    }
   ],
   "source": [
    "Merged_SRARun_DF.head(4)"
   ]
  },
  {
   "cell_type": "code",
   "execution_count": 61,
   "metadata": {},
   "outputs": [
    {
     "data": {
      "text/html": [
       "<div>\n",
       "<style scoped>\n",
       "    .dataframe tbody tr th:only-of-type {\n",
       "        vertical-align: middle;\n",
       "    }\n",
       "\n",
       "    .dataframe tbody tr th {\n",
       "        vertical-align: top;\n",
       "    }\n",
       "\n",
       "    .dataframe thead th {\n",
       "        text-align: right;\n",
       "    }\n",
       "</style>\n",
       "<table border=\"1\" class=\"dataframe\">\n",
       "  <thead>\n",
       "    <tr style=\"text-align: right;\">\n",
       "      <th></th>\n",
       "      <th>Run</th>\n",
       "      <th>Assay Type</th>\n",
       "      <th>AvgSpotLen</th>\n",
       "      <th>Bases</th>\n",
       "      <th>BioProject</th>\n",
       "      <th>BioSample</th>\n",
       "      <th>Bytes</th>\n",
       "      <th>Center Name</th>\n",
       "      <th>Consent</th>\n",
       "      <th>DATASTORE filetype</th>\n",
       "      <th>DATASTORE provider</th>\n",
       "      <th>DATASTORE region</th>\n",
       "      <th>Experiment</th>\n",
       "      <th>GEO_Accession (exp)</th>\n",
       "      <th>Instrument</th>\n",
       "      <th>LibraryLayout</th>\n",
       "      <th>LibrarySelection</th>\n",
       "      <th>LibrarySource</th>\n",
       "      <th>Organism</th>\n",
       "      <th>Platform</th>\n",
       "      <th>ReleaseDate</th>\n",
       "      <th>Sample Name</th>\n",
       "      <th>source_name</th>\n",
       "      <th>SRA Study</th>\n",
       "      <th>Time_point</th>\n",
       "      <th>Treatment</th>\n",
       "      <th>days_post_drug</th>\n",
       "      <th>drug_dose</th>\n",
       "      <th>ethambutol_dose</th>\n",
       "      <th>compound</th>\n",
       "      <th>strain_name</th>\n",
       "      <th>strain_origin</th>\n",
       "    </tr>\n",
       "  </thead>\n",
       "  <tbody>\n",
       "    <tr>\n",
       "      <td>25</td>\n",
       "      <td>SRR8274778</td>\n",
       "      <td>RNA-Seq</td>\n",
       "      <td>65</td>\n",
       "      <td>1405102530</td>\n",
       "      <td>PRJNA508198</td>\n",
       "      <td>SAMN10517952</td>\n",
       "      <td>541504628</td>\n",
       "      <td>GEO</td>\n",
       "      <td>public</td>\n",
       "      <td>fastq,sra</td>\n",
       "      <td>gs,ncbi,s3</td>\n",
       "      <td>gs.US,ncbi.public,s3.us-east-1</td>\n",
       "      <td>SRX5089868</td>\n",
       "      <td>GSM3499448</td>\n",
       "      <td>Illumina HiSeq 2500</td>\n",
       "      <td>SINGLE</td>\n",
       "      <td>cDNA</td>\n",
       "      <td>TRANSCRIPTOMIC</td>\n",
       "      <td>Mycobacterium tuberculosis</td>\n",
       "      <td>ILLUMINA</td>\n",
       "      <td>2019-10-31T00:00:00Z</td>\n",
       "      <td>GSM3499448</td>\n",
       "      <td>Mycobacterium tuberculosis</td>\n",
       "      <td>SRP172122</td>\n",
       "      <td>NaN</td>\n",
       "      <td>NaN</td>\n",
       "      <td>NaN</td>\n",
       "      <td>NaN</td>\n",
       "      <td>NaN</td>\n",
       "      <td>Delamanid</td>\n",
       "      <td>H37Rv</td>\n",
       "      <td>Laboratory</td>\n",
       "    </tr>\n",
       "  </tbody>\n",
       "</table>\n",
       "</div>"
      ],
      "text/plain": [
       "           Run Assay Type  AvgSpotLen       Bases   BioProject     BioSample      Bytes Center Name Consent DATASTORE filetype DATASTORE provider                DATASTORE region  Experiment GEO_Accession (exp)           Instrument LibraryLayout LibrarySelection   LibrarySource                    Organism  Platform           ReleaseDate Sample Name                 source_name  SRA Study Time_point Treatment  days_post_drug drug_dose ethambutol_dose   compound strain_name strain_origin\n",
       "25  SRR8274778    RNA-Seq          65  1405102530  PRJNA508198  SAMN10517952  541504628         GEO  public          fastq,sra         gs,ncbi,s3  gs.US,ncbi.public,s3.us-east-1  SRX5089868          GSM3499448  Illumina HiSeq 2500        SINGLE             cDNA  TRANSCRIPTOMIC  Mycobacterium tuberculosis  ILLUMINA  2019-10-31T00:00:00Z  GSM3499448  Mycobacterium tuberculosis  SRP172122        NaN       NaN             NaN       NaN             NaN  Delamanid       H37Rv    Laboratory"
      ]
     },
     "execution_count": 61,
     "metadata": {},
     "output_type": "execute_result"
    }
   ],
   "source": [
    "Merged_SRARun_DF[  Merged_SRARun_DF[\"Run\"] == \"SRR8274778\"]"
   ]
  },
  {
   "cell_type": "code",
   "execution_count": null,
   "metadata": {},
   "outputs": [],
   "source": [
    "SRR8274778"
   ]
  },
  {
   "cell_type": "code",
   "execution_count": null,
   "metadata": {},
   "outputs": [],
   "source": []
  },
  {
   "cell_type": "code",
   "execution_count": null,
   "metadata": {},
   "outputs": [],
   "source": [
    "## Output Merged SRA_Run_Table_CSV"
   ]
  },
  {
   "cell_type": "code",
   "execution_count": null,
   "metadata": {},
   "outputs": [],
   "source": [
    "RunInfo_Dir_PATH = \"../runInfo_TSVs\""
   ]
  },
  {
   "cell_type": "code",
   "execution_count": 51,
   "metadata": {},
   "outputs": [
    {
     "data": {
      "text/plain": [
       "['PRJNA421561_SraRunTable.csv',\n",
       " 'PRJNA484003_SraRunTable.csv',\n",
       " 'PRJNA484385_SraRunTable.csv',\n",
       " 'PRJNA484403_SraRunTable.csv',\n",
       " 'PRJNA508198_SraRunTable.csv']"
      ]
     },
     "execution_count": 51,
     "metadata": {},
     "output_type": "execute_result"
    }
   ],
   "source": [
    "ListOf_RunTables"
   ]
  },
  {
   "cell_type": "code",
   "execution_count": 52,
   "metadata": {},
   "outputs": [],
   "source": [
    "SRA_Run_Table_CSV_PATH = f\"{RunInfo_Dir_PATH}/Mtb_RNAseq_MergedSRARunTables_PRJNA421561_PRJNA484003_PRJNA484385_PRJNA484403_PRJNA508198_SraRunTable.csv\"/   "
   ]
  },
  {
   "cell_type": "code",
   "execution_count": 53,
   "metadata": {},
   "outputs": [],
   "source": [
    "Merged_SRARun_DF.to_csv(SRA_Run_Table_CSV_PATH, sep = \",\", index=False)"
   ]
  },
  {
   "cell_type": "markdown",
   "metadata": {},
   "source": [
    "### Look at the output directory"
   ]
  },
  {
   "cell_type": "code",
   "execution_count": 54,
   "metadata": {},
   "outputs": [
    {
     "name": "stdout",
     "output_type": "stream",
     "text": [
      "Mtb_RNAseq_MergedSRARunTables_PRJNA421561_PRJNA484003_PRJNA484385_PRJNA484403_PRJNA508198_SraRunTable.csv\n",
      "PRJNA421561_SraRunTable.csv\n",
      "PRJNA484003_SraRunTable.csv\n",
      "PRJNA484385_SraRunTable.csv\n",
      "PRJNA484403_SraRunTable.csv\n",
      "PRJNA508198_SraRunTable.csv\n"
     ]
    }
   ],
   "source": [
    "!ls -1 $RunInfo_Dir_PATH | grep \".csv\""
   ]
  },
  {
   "cell_type": "code",
   "execution_count": 60,
   "metadata": {},
   "outputs": [
    {
     "name": "stdout",
     "output_type": "stream",
     "text": [
      "  113 ../runInfo_TSVs/Mtb_RNAseq_MergedSRARunTables_PRJNA421561_PRJNA484003_PRJNA484385_PRJNA484403_PRJNA508198_SraRunTable.csv\n",
      "   37 ../runInfo_TSVs/PRJNA421561_SraRunTable.csv\n",
      "   17 ../runInfo_TSVs/PRJNA484003_SraRunTable.csv\n",
      "   17 ../runInfo_TSVs/PRJNA484385_SraRunTable.csv\n",
      "   16 ../runInfo_TSVs/PRJNA484403_SraRunTable.csv\n",
      "   30 ../runInfo_TSVs/PRJNA508198_SraRunTable.csv\n",
      "    0 ../runInfo_TSVs/runInfo_TSVs_README.md\n",
      "  230 total\n"
     ]
    }
   ],
   "source": [
    "!wc -l $RunInfo_Dir_PATH/*"
   ]
  },
  {
   "cell_type": "code",
   "execution_count": null,
   "metadata": {},
   "outputs": [],
   "source": []
  },
  {
   "cell_type": "code",
   "execution_count": null,
   "metadata": {},
   "outputs": [],
   "source": []
  },
  {
   "cell_type": "code",
   "execution_count": null,
   "metadata": {},
   "outputs": [],
   "source": []
  },
  {
   "cell_type": "code",
   "execution_count": 9,
   "metadata": {},
   "outputs": [
    {
     "name": "stdout",
     "output_type": "stream",
     "text": [
      "../runInfo_TSVs/PRJNA508198_SraRunTable.csv\n"
     ]
    }
   ],
   "source": [
    "!ls -1 $PathTo_InputSampleDATA_TSV"
   ]
  },
  {
   "cell_type": "code",
   "execution_count": 14,
   "metadata": {},
   "outputs": [],
   "source": [
    "\n",
    "# Read in data regarding input\n",
    "df = pd.read_csv( PathTo_InputSampleDATA_TSV, sep=',')\n",
    "\n",
    "# Save a list of SRA/ENA \"Run\" Accessions\n",
    "input_SampleIDs_SRA_RunAcc = list( df[\"Run\"].values )"
   ]
  },
  {
   "cell_type": "code",
   "execution_count": 16,
   "metadata": {},
   "outputs": [
    {
     "data": {
      "text/html": [
       "<div>\n",
       "<style scoped>\n",
       "    .dataframe tbody tr th:only-of-type {\n",
       "        vertical-align: middle;\n",
       "    }\n",
       "\n",
       "    .dataframe tbody tr th {\n",
       "        vertical-align: top;\n",
       "    }\n",
       "\n",
       "    .dataframe thead th {\n",
       "        text-align: right;\n",
       "    }\n",
       "</style>\n",
       "<table border=\"1\" class=\"dataframe\">\n",
       "  <thead>\n",
       "    <tr style=\"text-align: right;\">\n",
       "      <th></th>\n",
       "      <th>Run</th>\n",
       "      <th>Assay Type</th>\n",
       "      <th>AvgSpotLen</th>\n",
       "      <th>Bases</th>\n",
       "      <th>BioProject</th>\n",
       "      <th>BioSample</th>\n",
       "      <th>Bytes</th>\n",
       "      <th>Center Name</th>\n",
       "      <th>compound</th>\n",
       "      <th>Consent</th>\n",
       "      <th>...</th>\n",
       "      <th>LibrarySelection</th>\n",
       "      <th>LibrarySource</th>\n",
       "      <th>Organism</th>\n",
       "      <th>Platform</th>\n",
       "      <th>ReleaseDate</th>\n",
       "      <th>Sample Name</th>\n",
       "      <th>source_name</th>\n",
       "      <th>SRA Study</th>\n",
       "      <th>strain_name</th>\n",
       "      <th>strain_origin</th>\n",
       "    </tr>\n",
       "  </thead>\n",
       "  <tbody>\n",
       "    <tr>\n",
       "      <td>0</td>\n",
       "      <td>SRR8274753</td>\n",
       "      <td>RNA-Seq</td>\n",
       "      <td>65</td>\n",
       "      <td>2304838575</td>\n",
       "      <td>PRJNA508198</td>\n",
       "      <td>SAMN10517948</td>\n",
       "      <td>796149297</td>\n",
       "      <td>GEO</td>\n",
       "      <td>none</td>\n",
       "      <td>public</td>\n",
       "      <td>...</td>\n",
       "      <td>cDNA</td>\n",
       "      <td>TRANSCRIPTOMIC</td>\n",
       "      <td>Mycobacterium tuberculosis</td>\n",
       "      <td>ILLUMINA</td>\n",
       "      <td>2019-10-31T00:00:00Z</td>\n",
       "      <td>GSM3499423</td>\n",
       "      <td>Mycobacterium tuberculosis</td>\n",
       "      <td>SRP172122</td>\n",
       "      <td>ITM-04-1195</td>\n",
       "      <td>clinical (BCCMTM Collection, TB-TDR-0078)</td>\n",
       "    </tr>\n",
       "    <tr>\n",
       "      <td>1</td>\n",
       "      <td>SRR8274754</td>\n",
       "      <td>RNA-Seq</td>\n",
       "      <td>65</td>\n",
       "      <td>2047869395</td>\n",
       "      <td>PRJNA508198</td>\n",
       "      <td>SAMN10517947</td>\n",
       "      <td>704327932</td>\n",
       "      <td>GEO</td>\n",
       "      <td>none</td>\n",
       "      <td>public</td>\n",
       "      <td>...</td>\n",
       "      <td>cDNA</td>\n",
       "      <td>TRANSCRIPTOMIC</td>\n",
       "      <td>Mycobacterium tuberculosis</td>\n",
       "      <td>ILLUMINA</td>\n",
       "      <td>2019-10-31T00:00:00Z</td>\n",
       "      <td>GSM3499424</td>\n",
       "      <td>Mycobacterium tuberculosis</td>\n",
       "      <td>SRP172122</td>\n",
       "      <td>ITM-04-1195</td>\n",
       "      <td>clinical (BCCMTM Collection, TB-TDR-0078)</td>\n",
       "    </tr>\n",
       "  </tbody>\n",
       "</table>\n",
       "<p>2 rows × 27 columns</p>\n",
       "</div>"
      ],
      "text/plain": [
       "          Run Assay Type  AvgSpotLen       Bases   BioProject     BioSample  \\\n",
       "0  SRR8274753    RNA-Seq          65  2304838575  PRJNA508198  SAMN10517948   \n",
       "1  SRR8274754    RNA-Seq          65  2047869395  PRJNA508198  SAMN10517947   \n",
       "\n",
       "       Bytes Center Name compound Consent  ... LibrarySelection  \\\n",
       "0  796149297         GEO     none  public  ...             cDNA   \n",
       "1  704327932         GEO     none  public  ...             cDNA   \n",
       "\n",
       "    LibrarySource                    Organism  Platform           ReleaseDate  \\\n",
       "0  TRANSCRIPTOMIC  Mycobacterium tuberculosis  ILLUMINA  2019-10-31T00:00:00Z   \n",
       "1  TRANSCRIPTOMIC  Mycobacterium tuberculosis  ILLUMINA  2019-10-31T00:00:00Z   \n",
       "\n",
       "  Sample Name                 source_name  SRA Study  strain_name  \\\n",
       "0  GSM3499423  Mycobacterium tuberculosis  SRP172122  ITM-04-1195   \n",
       "1  GSM3499424  Mycobacterium tuberculosis  SRP172122  ITM-04-1195   \n",
       "\n",
       "                               strain_origin  \n",
       "0  clinical (BCCMTM Collection, TB-TDR-0078)  \n",
       "1  clinical (BCCMTM Collection, TB-TDR-0078)  \n",
       "\n",
       "[2 rows x 27 columns]"
      ]
     },
     "execution_count": 16,
     "metadata": {},
     "output_type": "execute_result"
    }
   ],
   "source": [
    "df.head(2)"
   ]
  }
 ],
 "metadata": {
  "kernelspec": {
   "display_name": "py37_S",
   "language": "python",
   "name": "py37_s"
  },
  "language_info": {
   "codemirror_mode": {
    "name": "ipython",
    "version": 3
   },
   "file_extension": ".py",
   "mimetype": "text/x-python",
   "name": "python",
   "nbconvert_exporter": "python",
   "pygments_lexer": "ipython3",
   "version": "3.7.3"
  }
 },
 "nbformat": 4,
 "nbformat_minor": 4
}
